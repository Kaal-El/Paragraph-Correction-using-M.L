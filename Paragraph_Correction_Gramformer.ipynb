{
 "cells": [
  {
   "cell_type": "markdown",
   "id": "df9e67d5",
   "metadata": {},
   "source": [
    "# 📝 Paragraph Correction using Gramformer\n",
    "This notebook demonstrates how to use the Gramformer model to correct grammatically incorrect English sentences."
   ]
  },
  {
   "cell_type": "code",
   "execution_count": null,
   "id": "72e35ed7",
   "metadata": {},
   "outputs": [],
   "source": [
    "!pip install gramformer"
   ]
  },
  {
   "cell_type": "code",
   "execution_count": null,
   "id": "dcd9ba70",
   "metadata": {},
   "outputs": [],
   "source": [
    "!pip install git+https://github.com/huggingface/transformers.git"
   ]
  },
  {
   "cell_type": "code",
   "execution_count": null,
   "id": "64b856f1",
   "metadata": {},
   "outputs": [],
   "source": [
    "from gramformer import Gramformer\n",
    "import torch\n",
    "\n",
    "# Check if GPU is available\n",
    "use_gpu = torch.cuda.is_available()\n",
    "\n",
    "# Initialize Gramformer (1 = Corrector model)\n",
    "gf = Gramformer(models=1, use_gpu=use_gpu)"
   ]
  },
  {
   "cell_type": "code",
   "execution_count": null,
   "id": "9fb7346b",
   "metadata": {},
   "outputs": [],
   "source": [
    "# Test with one incorrect sentence\n",
    "incorrect_sentence = \"she no went to the market\"\n",
    "print(\"Original:\", incorrect_sentence)\n",
    "corrections = gf.correct(incorrect_sentence, max_candidates=1)\n",
    "for corrected_sentence in corrections:\n",
    "    print(\"Corrected:\", corrected_sentence)"
   ]
  },
  {
   "cell_type": "code",
   "execution_count": null,
   "id": "6e22c894",
   "metadata": {},
   "outputs": [],
   "source": [
    "# Test with multiple sentences\n",
    "sentences = [\n",
    "    \"he no like eatting apple\",\n",
    "    \"i has a pen and two books\",\n",
    "    \"this are the better days\"\n",
    "]\n",
    "\n",
    "for s in sentences:\n",
    "    print(\"\\nOriginal:\", s)\n",
    "    for corrected in gf.correct(s, max_candidates=1):\n",
    "        print(\"Corrected:\", corrected)"
   ]
  }
 ],
 "metadata": {},
 "nbformat": 4,
 "nbformat_minor": 5
}
